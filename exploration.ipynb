{
 "cells": [
  {
   "cell_type": "code",
   "execution_count": null,
   "metadata": {},
   "outputs": [],
   "source": [
    "from matplotlib import pyplot as plt\n",
    "import numpy as np"
   ]
  },
  {
   "cell_type": "code",
   "execution_count": null,
   "metadata": {},
   "outputs": [],
   "source": [
    "import pandas as pd"
   ]
  },
  {
   "cell_type": "code",
   "execution_count": null,
   "metadata": {},
   "outputs": [],
   "source": [
    "df = pd.read_csv('./stats/0.15.4.csv', skiprows=2)"
   ]
  },
  {
   "cell_type": "code",
   "execution_count": null,
   "metadata": {},
   "outputs": [],
   "source": [
    "df"
   ]
  },
  {
   "cell_type": "code",
   "execution_count": null,
   "metadata": {},
   "outputs": [],
   "source": [
    "def plot(prefix, df=df, label='', log=True):\n",
    "    dt = df[df.name.str.match(f'({prefix}.*)')].real_time.as_matrix()\n",
    "    xdt = np.arange(dt.shape[0])\n",
    "    plt.xticks(xdt, [el.split('/')[1] for el in df[df.name.str.match('(xtensor_1D.*)')].name])\n",
    "    if len(label):\n",
    "        label = \" \" + label\n",
    "    if log:\n",
    "        plt.semilogy(xdt, dt, label=prefix + label)\n",
    "    else:\n",
    "        plt.plot(xdt, dt, label=prefix + label)\n",
    "    plt.legend()\n",
    "plot('xtensor_1D')\n",
    "plot('xsimd_1D')\n",
    "plot('eigen_1D')\n",
    "plot('arma_1D')"
   ]
  },
  {
   "cell_type": "code",
   "execution_count": null,
   "metadata": {},
   "outputs": [],
   "source": [
    "plot('xtensor_2D')\n",
    "plot('xsimd_2D')\n",
    "plot('eigen_2D')\n",
    "plot('arma_2D')"
   ]
  },
  {
   "cell_type": "code",
   "execution_count": null,
   "metadata": {},
   "outputs": [],
   "source": [
    "df2 = pd.read_csv('./stats/0.15.4.csv', skiprows=2)\n",
    "df1 = pd.read_csv('./stats/0.14.0.csv', skiprows=2)"
   ]
  },
  {
   "cell_type": "code",
   "execution_count": null,
   "metadata": {},
   "outputs": [],
   "source": [
    "plot('xtensor_1D', df1, '0.14.0')\n",
    "plot('xtensor_1D', df2, '0.15.2')\n",
    "plot('eigen_1D', df2)"
   ]
  },
  {
   "cell_type": "code",
   "execution_count": null,
   "metadata": {},
   "outputs": [],
   "source": [
    "df2 = pd.read_csv('./stats/0.15.4.csv', skiprows=2)\n",
    "df1 = pd.read_csv('./stats/0.14.0.csv', skiprows=2)\n",
    "df3 = pd.read_csv('./stats/master.csv', skiprows=2)\n",
    "log = True\n",
    "plot('xtensor_1D', df1, '0.14.0', log)\n",
    "plot('xtensor_1D', df2, '0.15.4', log)\n",
    "plot('xtensor_1D', df3, 'master', log)\n",
    "plot('eigen_1D', df3, '', log)"
   ]
  },
  {
   "cell_type": "code",
   "execution_count": null,
   "metadata": {},
   "outputs": [],
   "source": []
  },
  {
   "cell_type": "code",
   "execution_count": null,
   "metadata": {},
   "outputs": [],
   "source": []
  }
 ],
 "metadata": {
  "kernelspec": {
   "display_name": "Python 3",
   "language": "python",
   "name": "python3"
  },
  "language_info": {
   "codemirror_mode": {
    "name": "ipython",
    "version": 3
   },
   "file_extension": ".py",
   "mimetype": "text/x-python",
   "name": "python",
   "nbconvert_exporter": "python",
   "pygments_lexer": "ipython3",
   "version": "3.6.2"
  }
 },
 "nbformat": 4,
 "nbformat_minor": 2
}
